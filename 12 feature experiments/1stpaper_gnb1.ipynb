{
  "nbformat": 4,
  "nbformat_minor": 0,
  "metadata": {
    "colab": {
      "name": "1stpaper-gnb1.ipynb",
      "provenance": []
    },
    "kernelspec": {
      "name": "python3",
      "display_name": "Python 3"
    },
    "language_info": {
      "name": "python"
    }
  },
  "cells": [
    {
      "cell_type": "code",
      "metadata": {
        "id": "PzfEy_5FgJ_M"
      },
      "source": [
        "!pip install lime\n",
        "!pip install seaborn\n",
        "!pip install pandas\n",
        "!pip install scikit-survival"
      ],
      "execution_count": null,
      "outputs": []
    },
    {
      "cell_type": "code",
      "metadata": {
        "colab": {
          "base_uri": "https://localhost:8080/",
          "height": 785
        },
        "id": "_xLyCI-mgMoW",
        "outputId": "57b577cd-31fe-4dcc-f720-25a58b58c080"
      },
      "source": [
        "from __future__ import print_function\n",
        "import lime\n",
        "import lime.lime_tabular\n",
        "import sklearn.ensemble\n",
        "import sklearn.metrics\n",
        "from lime import lime_text\n",
        "from lime.lime_text import LimeTextExplainer\n",
        "import sklearn\n",
        "from sklearn.pipeline import make_pipeline\n",
        "from sklearn import linear_model\n",
        "import matplotlib.pyplot as plt\n",
        "import pandas as pd\n",
        "import numpy as np\n",
        "from sklearn.pipeline import make_pipeline\n",
        "from sklearn import preprocessing\n",
        "import sklearn.feature_extraction \n",
        "import seaborn as sns\n",
        "from sklearn import svm\n",
        "from sklearn.naive_bayes import GaussianNB\n",
        "import pickle\n",
        "\n",
        "#remove the warning that comes with assignign the race values to slices\n",
        "pd.options.mode.chained_assignment = None\n",
        "\n",
        "compas = pd.read_csv(\"/content/compas-scores-two-years-violent.csv\")\n",
        "#compas = pd.read_csv(\"C:/Users/Chick/PycharmProjects/thesis research/compas.csv\")\n",
        "compasfeat = compas.drop([ 'id', 'name', 'first', 'last', 'compas_screening_date',\n",
        "                          'dob', 'age_cat',  'days_b_screening_arrest', 'c_jail_in','c_jail_out','c_case_number',\n",
        "                          'c_offense_date', 'c_arrest_date', 'c_days_from_compas',\n",
        "                          'c_charge_desc', 'is_recid', 'r_case_number','r_charge_degree','r_days_from_arrest', 'r_offense_date',\n",
        "                          'r_charge_desc', 'r_jail_in','r_jail_out','violent_recid','is_violent_recid', 'vr_case_number','vr_charge_degree', 'vr_offense_date', 'vr_charge_desc','type_of_assessment',\n",
        "                          'score_text', 'screening_date', 'v_type_of_assessment', 'v_score_text',\n",
        "                          'v_screening_date', 'in_custody', 'out_custody','start', 'end', 'event',\n",
        "                          'two_year_recid.1'], axis=1)\n",
        "print(compasfeat.info())\n",
        "le = preprocessing.LabelEncoder()\n",
        "compasfeat.race[compasfeat.race == 'African-American'] = 1\n",
        "compasfeat.race[compasfeat.race == 'Caucasian'] = 0\n",
        "compasfeat.race[compasfeat.race == 'Hispanic'] = 2\n",
        "compasfeat.race[compasfeat.race == 'Asian'] = 3\n",
        "compasfeat.race[compasfeat.race == 'Other'] = 4\n",
        "compasfeat.race[compasfeat.race == 'Native American'] = 5\n",
        "compasfeat['sex'] = le.fit_transform(compasfeat['sex'].values)\n",
        "compasfeat['c_charge_degree'] = le.fit_transform(compasfeat['c_charge_degree'].values)\n",
        "\n",
        "predict = \"two_year_recid\"\n",
        "\n",
        "#test figure for displaying in the model\n",
        "i= 66\n",
        "###############################################################three models on the first dataset################################################################\n",
        "x = np.array(compasfeat.drop([predict], 1))\n",
        "y = np.array(compasfeat[predict])\n",
        "\n",
        "\n",
        "for _ in range(35):\n",
        "    x_train, x_test, y_train, y_test = sklearn.model_selection.train_test_split(x, y, test_size=.20)\n",
        "\n",
        "    #build the model\n",
        "    gnb = GaussianNB()\n",
        "    gnb.fit(x_train, y_train)\n",
        "    gnbacc = gnb.score(x_test, y_test) \n",
        "  \n",
        "explainer = lime.lime_tabular.LimeTabularExplainer(x_train, mode='classification', feature_names = compasfeat.columns.values, class_names=['no recid', 'recid'], verbose=True, discretize_continuous=True, discretizer='quartile')\n",
        "\n",
        "\n",
        "print(\"\\nGaussian Naive Bayes classifier accuracy:\", round(gnbacc*100, 2), \" prediction:\", gnb.predict(x_test[i].reshape(1, -1)), \" Predict probability:\", gnb.predict_proba(x_test[i].reshape(1, -1)))\n",
        "\n",
        "print(\"prisoner information:\\n\", x_test[i],y_test[i])\n",
        "\n",
        "print(\"GNB: \\n\")\n",
        "gnbexp = explainer.explain_instance(x_test[i], gnb.predict_proba, num_features=len(compasfeat.columns))\n",
        "gnbimg = gnbexp.as_pyplot_figure()\n",
        "gnbimg.savefig('gnb1-1', format='pdf',bbox_inches='tight')\n",
        "plt.show()"
      ],
      "execution_count": 4,
      "outputs": [
        {
          "output_type": "stream",
          "text": [
            "<class 'pandas.core.frame.DataFrame'>\n",
            "RangeIndex: 4743 entries, 0 to 4742\n",
            "Data columns (total 13 columns):\n",
            " #   Column           Non-Null Count  Dtype \n",
            "---  ------           --------------  ----- \n",
            " 0   sex              4743 non-null   object\n",
            " 1   age              4743 non-null   int64 \n",
            " 2   race             4743 non-null   object\n",
            " 3   juv_fel_count    4743 non-null   int64 \n",
            " 4   decile_score     4743 non-null   int64 \n",
            " 5   juv_misd_count   4743 non-null   int64 \n",
            " 6   juv_other_count  4743 non-null   int64 \n",
            " 7   priors_count     4743 non-null   int64 \n",
            " 8   c_charge_degree  4743 non-null   object\n",
            " 9   decile_score.1   4743 non-null   int64 \n",
            " 10  v_decile_score   4743 non-null   int64 \n",
            " 11  priors_count.1   4743 non-null   int64 \n",
            " 12  two_year_recid   4743 non-null   int64 \n",
            "dtypes: int64(10), object(3)\n",
            "memory usage: 481.8+ KB\n",
            "None\n",
            "\n",
            "Gaussian Naive Bayes classifier accuracy: 81.03  prediction: [0]  Predict probability: [[9.99517312e-01 4.82688233e-04]]\n",
            "prisoner information:\n",
            " [1 24 3 0 2 0 0 0 1 2 3 0] 0\n",
            "GNB: \n",
            "\n",
            "Intercept 1.8597753386574913\n",
            "Prediction_local [-0.03209028]\n",
            "Right: 0.00048268823337720157\n"
          ],
          "name": "stdout"
        },
        {
          "output_type": "display_data",
          "data": {
            "image/png": "[encoded data removed]",
            "text/plain": [
              "<Figure size 432x288 with 1 Axes>"
            ]
          },
          "metadata": {
            "tags": [],
            "needs_background": "light"
          }
        }
      ]
    }
  ]
}