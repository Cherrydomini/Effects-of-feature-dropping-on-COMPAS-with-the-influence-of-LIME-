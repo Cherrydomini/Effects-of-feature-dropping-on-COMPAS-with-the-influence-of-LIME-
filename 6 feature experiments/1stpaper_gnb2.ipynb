{
  "nbformat": 4,
  "nbformat_minor": 0,
  "metadata": {
    "colab": {
      "name": "1stpaper-gnb2.ipynb",
      "provenance": []
    },
    "kernelspec": {
      "name": "python3",
      "display_name": "Python 3"
    },
    "language_info": {
      "name": "python"
    }
  },
  "cells": [
    {
      "cell_type": "code",
      "metadata": {
        "id": "bkUcgDOItajC"
      },
      "source": [
        "!pip install lime\n",
        "!pip install seaborn\n",
        "!pip install pandas\n",
        "!pip install scikit-survival"
      ],
      "execution_count": null,
      "outputs": []
    },
    {
      "cell_type": "markdown",
      "metadata": {
        "id": "yrI0eQ22R-oY"
      },
      "source": [
        "the warning that is seen in the results below are from setting the numeric values of race on a copy of a slice of the original dataset. without making a completely new dataset with these numeric values that is a very hard issue to get around and in the end it doesn't effect the results or acurracy so it can just be ignored or you can go to the link to silence the warning."
      ]
    },
    {
      "cell_type": "code",
      "metadata": {
        "colab": {
          "base_uri": "https://localhost:8080/",
          "height": 1000
        },
        "id": "Q9dnZMgXta8v",
        "outputId": "6300b8b4-4b68-4d6c-e9d4-b2327bca1217"
      },
      "source": [
        "from __future__ import print_function\n",
        "import lime\n",
        "import lime.lime_tabular\n",
        "import sklearn.ensemble\n",
        "import sklearn.metrics\n",
        "from lime import lime_text\n",
        "from lime.lime_text import LimeTextExplainer\n",
        "import sklearn\n",
        "from sklearn.pipeline import make_pipeline\n",
        "from sklearn import linear_model\n",
        "import matplotlib.pyplot as plt\n",
        "import pandas as pd\n",
        "import numpy as np\n",
        "from sklearn.pipeline import make_pipeline\n",
        "from sklearn import preprocessing\n",
        "import sklearn.feature_extraction \n",
        "import seaborn as sns\n",
        "from sklearn import svm\n",
        "from sklearn.naive_bayes import GaussianNB\n",
        "import pickle\n",
        "\n",
        "#remove the warning that comes with assigning the race values to slices\n",
        "pd.options.mode.chained_assignment = None\n",
        "\n",
        "compas = pd.read_csv(\"/content/compas-scores-two-years-violent.csv\")\n",
        "#compas = pd.read_csv(\"C:/Users/Chick/PycharmProjects/thesis research/compas.csv\")\n",
        "compasfeat = compas.drop([ 'id', 'name', 'first', 'last', 'compas_screening_date',\n",
        "                          'dob', 'age_cat',  'days_b_screening_arrest', 'c_jail_in','c_jail_out','c_case_number',\n",
        "                          'c_offense_date', 'c_arrest_date', 'c_days_from_compas',\n",
        "                          'c_charge_desc', 'is_recid', 'r_case_number','r_charge_degree','r_days_from_arrest', 'r_offense_date',\n",
        "                          'r_charge_desc', 'r_jail_in','r_jail_out','violent_recid','is_violent_recid', 'vr_case_number','vr_charge_degree', 'vr_offense_date', 'vr_charge_desc','type_of_assessment',\n",
        "                          'score_text', 'screening_date', 'v_type_of_assessment', 'v_score_text',\n",
        "                          'v_screening_date', 'in_custody', 'out_custody','start', 'end', 'event',\n",
        "                          'two_year_recid.1'], axis=1)\n",
        "print(compasfeat.info())\n",
        "le = preprocessing.LabelEncoder()\n",
        "compasfeat.race[compasfeat.race == 'African-American'] = 1\n",
        "compasfeat.race[compasfeat.race == 'Caucasian'] = 0\n",
        "compasfeat.race[compasfeat.race == 'Hispanic'] = 2\n",
        "compasfeat.race[compasfeat.race == 'Asian'] = 3\n",
        "compasfeat.race[compasfeat.race == 'Other'] = 4\n",
        "compasfeat.race[compasfeat.race == 'Native American'] = 5\n",
        "compasfeat['sex'] = le.fit_transform(compasfeat['sex'].values)\n",
        "compasfeat['c_charge_degree'] = le.fit_transform(compasfeat['c_charge_degree'].values)\n",
        "\n",
        "predict = \"two_year_recid\"\n",
        "\n",
        "#test figure for displaying in the model\n",
        "i= 66\n",
        "\n",
        "###############################################################three models on the second dataset################################################################\n",
        "\n",
        "#modify features of the dataset\n",
        "nocompasfeat = compasfeat.drop([\"decile_score\",\"v_decile_score\",\"race\", \"age\", \"sex\",\"decile_score.1\"], axis=1)\n",
        "print(\"No compas: \",nocompasfeat.info())\n",
        "X = np.array(nocompasfeat.drop([predict], 1))\n",
        "Y = np.array(nocompasfeat[predict])\n",
        "\n",
        "#model\n",
        "for _ in range(35):\n",
        "    x_Train, x_Test, y_Train, y_Test = sklearn.model_selection.train_test_split(X, Y, test_size=.20)\n",
        "\n",
        "    #build the model\n",
        "    nognb = GaussianNB()\n",
        "    nognb.fit(x_Train, y_Train)\n",
        "    nognbacc = nognb.score(x_Test, y_Test)\n",
        "\n",
        "noexplainer = lime.lime_tabular.LimeTabularExplainer(x_Train, mode='classification', feature_names = nocompasfeat.columns.values, class_names=['no recid', 'recid'], verbose=True, discretize_continuous=True, discretizer='quartile')\n",
        "print(\"\\nGaussian Naive Bayes classifier accuracy: \", round(nognbacc*100, 2), \"prediction: \", nognb.predict(x_Test[i].reshape(1, -1)), \"Predict probability: \", nognb.predict_proba(x_Test[i].reshape(1, -1)))\n",
        "\n",
        "\n",
        "print(\"prisoner information:\\n\", x_Test[i],y_Test[i])\n",
        "print(\"GNB: \\n\")\n",
        "nognbexp = noexplainer.explain_instance(x_Test[i], nognb.predict_proba, num_features=len(nocompasfeat.columns))\n",
        "img = nognbexp.as_pyplot_figure()\n",
        "img.savefig('nognb1-2', format='pdf',bbox_inches='tight')\n",
        "plt.show()"
      ],
      "execution_count": 2,
      "outputs": [
        {
          "output_type": "stream",
          "text": [
            "<class 'pandas.core.frame.DataFrame'>\n",
            "RangeIndex: 4743 entries, 0 to 4742\n",
            "Data columns (total 13 columns):\n",
            " #   Column           Non-Null Count  Dtype \n",
            "---  ------           --------------  ----- \n",
            " 0   sex              4743 non-null   object\n",
            " 1   age              4743 non-null   int64 \n",
            " 2   race             4743 non-null   object\n",
            " 3   juv_fel_count    4743 non-null   int64 \n",
            " 4   decile_score     4743 non-null   int64 \n",
            " 5   juv_misd_count   4743 non-null   int64 \n",
            " 6   juv_other_count  4743 non-null   int64 \n",
            " 7   priors_count     4743 non-null   int64 \n",
            " 8   c_charge_degree  4743 non-null   object\n",
            " 9   decile_score.1   4743 non-null   int64 \n",
            " 10  v_decile_score   4743 non-null   int64 \n",
            " 11  priors_count.1   4743 non-null   int64 \n",
            " 12  two_year_recid   4743 non-null   int64 \n",
            "dtypes: int64(10), object(3)\n",
            "memory usage: 481.8+ KB\n",
            "None\n",
            "<class 'pandas.core.frame.DataFrame'>\n",
            "RangeIndex: 4743 entries, 0 to 4742\n",
            "Data columns (total 7 columns):\n",
            " #   Column           Non-Null Count  Dtype\n",
            "---  ------           --------------  -----\n",
            " 0   juv_fel_count    4743 non-null   int64\n",
            " 1   juv_misd_count   4743 non-null   int64\n",
            " 2   juv_other_count  4743 non-null   int64\n",
            " 3   priors_count     4743 non-null   int64\n",
            " 4   c_charge_degree  4743 non-null   int64\n",
            " 5   priors_count.1   4743 non-null   int64\n",
            " 6   two_year_recid   4743 non-null   int64\n",
            "dtypes: int64(7)\n",
            "memory usage: 259.5 KB\n",
            "No compas:  None\n",
            "\n",
            "Gaussian Naive Bayes classifier accuracy:  80.4 prediction:  [0] Predict probability:  [[0.99713736 0.00286264]]\n",
            "prisoner information:\n",
            " [0 0 0 2 0 2] 0\n",
            "GNB: \n",
            "\n",
            "Intercept 2.0397514752972983\n",
            "Prediction_local [0.00924692]\n",
            "Right: 0.0028626377488298\n"
          ],
          "name": "stdout"
        },
        {
          "output_type": "display_data",
          "data": {
            "image/png": "[encoded data removed]",
            "text/plain": [
              "<Figure size 432x288 with 1 Axes>"
            ]
          },
          "metadata": {
            "tags": [],
            "needs_background": "light"
          }
        }
      ]
    }
  ]
}